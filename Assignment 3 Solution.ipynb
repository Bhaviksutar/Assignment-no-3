{
 "cells": [
  {
   "cell_type": "markdown",
   "id": "3a6ffdca",
   "metadata": {},
   "source": [
    "# Assignment No. 3"
   ]
  },
  {
   "cell_type": "markdown",
   "id": "16038b8c",
   "metadata": {},
   "source": [
    "#Question No. 1:- Why are functions advantageous to have in your programs?\n",
    "\n",
    "Ans- \n",
    " It can divide a complex problem into simpler ones and it also reduces chances of error.We can simply store a longer code in a function which also helps in calling function easily"
   ]
  },
  {
   "cell_type": "markdown",
   "id": "58818514",
   "metadata": {},
   "source": [
    "#Question No. 2:- When does the code in a function run: when it's specified or when it's called?\n",
    "\n",
    "Ans-\n",
    "The code in a function runs when it is called. \n"
   ]
  },
  {
   "cell_type": "markdown",
   "id": "3e5b538e",
   "metadata": {},
   "source": [
    "#Question No. 3:- What statement creates a function?\n",
    "\n",
    "def functionname() \n",
    " : this type of statement can create a function"
   ]
  },
  {
   "cell_type": "markdown",
   "id": "86c2b5ac",
   "metadata": {},
   "source": [
    "#Question No. 4:- What is the difference between a function and a function call?\n",
    "\n",
    "Ans-\n",
    "\n",
    "A function is a block of code that does a particular operation and returns a result. It usually accepts inputs as parameters and returns a result.\n",
    "\n",
    "A function call is the code used to pass control to a function."
   ]
  },
  {
   "cell_type": "markdown",
   "id": "a5f0a653",
   "metadata": {},
   "source": [
    "#Question No. 5:- How many global scopes are there in a Python program? How many local scopes?\n",
    "\n",
    "Ans-\n",
    "there is only one global scope in python: \n",
    "    A variable created in the main body of the Python code is a global variable and belongs to the global scope.\n",
    "    \n",
    "there is one local scope in python :\n",
    "    A variable created inside a function belongs to the local scope of that function, and can only be used inside that function."
   ]
  },
  {
   "cell_type": "markdown",
   "id": "bb20a659",
   "metadata": {},
   "source": [
    "#Question No. 6:- What happens to variables in a local scope when the function call returns?\n",
    "\n",
    "Ans-\n",
    "A local variable retains its value until the next time the function is called.\n",
    "\n",
    "A local variable becomes undefined after the function call completes"
   ]
  },
  {
   "cell_type": "markdown",
   "id": "1825a4d7",
   "metadata": {},
   "source": [
    "#Question No.7:- What is the concept of a return value? Is it possible to have a return value in an expression?\n",
    "\n",
    "Ans-\n",
    "A return is a value that a function returns to calling script or function when it completes its task\n",
    "\n",
    "Yes, it is possible to have a return function in an expression"
   ]
  },
  {
   "cell_type": "markdown",
   "id": "c9210683",
   "metadata": {},
   "source": [
    "#Question No.8:- If a function does not have a return statement, what is the return value of a call to that function?\n",
    "\n",
    "Ans-\n",
    "A function without an return statement returns None"
   ]
  },
  {
   "cell_type": "markdown",
   "id": "bdabf47f",
   "metadata": {},
   "source": [
    "#Question No.9:-How do you make a function variable refer to the global variable?\n",
    "\n",
    "Ans-\n",
    " To refer to a global variable in a function, we can use the global keyword to declare which variables are global."
   ]
  },
  {
   "cell_type": "markdown",
   "id": "2514c69f",
   "metadata": {},
   "source": [
    "#Question No.10:- What is the data type of None?\n",
    "\n",
    "Ans-\n",
    "\n",
    "The data type of None is NoneType or null"
   ]
  },
  {
   "cell_type": "markdown",
   "id": "158cca78",
   "metadata": {},
   "source": [
    "#Question No.11:- What does the sentence import areallyourpetsnamederic do?\n",
    "\n",
    "Ans-\n",
    "this statement imports a module named areallyourpetsnamederic.\n",
    "\n",
    "which is not a python module"
   ]
  },
  {
   "cell_type": "code",
   "execution_count": 12,
   "id": "4800a7ad",
   "metadata": {},
   "outputs": [
    {
     "data": {
      "text/plain": [
       "1"
      ]
     },
     "execution_count": 12,
     "metadata": {},
     "output_type": "execute_result"
    }
   ],
   "source": [
    "#Question No.12:- If you had a bacon() feature in a spam module, what would you call it after importing spam?\n",
    "\n",
    "def bacon(spam):\n",
    "    return spam \n",
    "\n",
    "bacon(1)#this is will importing spam\n",
    "\n"
   ]
  },
  {
   "cell_type": "markdown",
   "id": "4d22697e",
   "metadata": {},
   "source": [
    "#Question No.13:- What can you do to save a programme from crashing if it encounters an error?\n",
    "\n",
    "Ans-\n",
    "we can use exception handling functions to avoid crashing programme.\n",
    "\n",
    "we can use try and except function which can avoid crashing "
   ]
  },
  {
   "cell_type": "markdown",
   "id": "ebbd3dde",
   "metadata": {},
   "source": [
    "#Question no. 14:- What is the purpose of the try clause? What is the purpose of the except clause?\n",
    "\n",
    "Ans-\n",
    "Try clause will work the code which is present inside the try clause \n",
    "\n",
    "And except clause will helps form avoiding crashing of programme and will give the error which is printed in the function"
   ]
  },
  {
   "cell_type": "code",
   "execution_count": null,
   "id": "c7eb6c99",
   "metadata": {},
   "outputs": [],
   "source": []
  }
 ],
 "metadata": {
  "kernelspec": {
   "display_name": "Python 3 (ipykernel)",
   "language": "python",
   "name": "python3"
  },
  "language_info": {
   "codemirror_mode": {
    "name": "ipython",
    "version": 3
   },
   "file_extension": ".py",
   "mimetype": "text/x-python",
   "name": "python",
   "nbconvert_exporter": "python",
   "pygments_lexer": "ipython3",
   "version": "3.9.7"
  }
 },
 "nbformat": 4,
 "nbformat_minor": 5
}
